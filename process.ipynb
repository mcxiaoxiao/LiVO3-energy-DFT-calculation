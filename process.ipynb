{
 "cells": [
  {
   "cell_type": "code",
   "execution_count": 7,
   "id": "8bfcb2ff-b18e-4bf1-aa95-9a051cfd2cdd",
   "metadata": {},
   "outputs": [],
   "source": [
    "from pymatgen.io.vasp import Vasprun\n",
    "from pymatgen.io.cif import CifWriter\n",
    "\n",
    "# 读取VASP的POTCAR和vasprun.xml文件\n",
    "potcar = Potcar.from_file(\"POTCAR\")\n",
    "vasprun = Vasprun(\"vasprun.xml\", parse_potcar_file=True)\n",
    "\n",
    "# 提取最终的结构信息\n",
    "structure = vasprun.final_structure\n",
    "\n",
    "# 使用CIFWriter将结构信息写入CIF文件\n",
    "writer = CifWriter(structure)\n",
    "writer.write_file(\"output.cif\")"
   ]
  },
  {
   "cell_type": "code",
   "execution_count": 8,
   "id": "e1f6b7ad-022f-40d6-9c45-40e37aaa72d8",
   "metadata": {},
   "outputs": [
    {
     "name": "stdout",
     "output_type": "stream",
     "text": [
      "The final energy of LiVO3 is: -280.56733454 eV eV\n"
     ]
    }
   ],
   "source": [
    "from pymatgen.io.vasp.outputs import Vasprun\n",
    "\n",
    "# 加载vasprun.xml文件\n",
    "vasprun = Vasprun(\"vasprun.xml\")\n",
    "\n",
    "# 获取并打印最终能量\n",
    "final_energy = vasprun.final_energy\n",
    "print(f\"The final energy of LiVO3 is: {final_energy} eV\")"
   ]
  }
 ],
 "metadata": {
  "kernelspec": {
   "display_name": "Python 3 (ipykernel)",
   "language": "python",
   "name": "python3"
  },
  "language_info": {
   "codemirror_mode": {
    "name": "ipython",
    "version": 3
   },
   "file_extension": ".py",
   "mimetype": "text/x-python",
   "name": "python",
   "nbconvert_exporter": "python",
   "pygments_lexer": "ipython3",
   "version": "3.12.4"
  }
 },
 "nbformat": 4,
 "nbformat_minor": 5
}
